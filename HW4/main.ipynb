{
 "cells": [
  {
   "cell_type": "markdown",
   "metadata": {},
   "source": [
    "<div align=center>\n",
    "<font size=5>\n",
    "<font/>\n",
    "<p></p>\n",
    " <br/>\n",
    "\n",
    "<font color=#FF7500>\n",
    "Sharif University of Technology - Departmenet of Computer Engineering\n",
    "</font>\n",
    "<p></p>\n",
    "<font color=blue>\n",
    "Linear Algebra\n",
    "</font>\n",
    "<br/>\n",
    "<br/>\n",
    "\n",
    "Spring 2023\n",
    "\n",
    "</div>\n",
    "\n",
    "<hr/>\n",
    "\t\t<div align=center>\n",
    "\t\t    <font color=red size=6>\n",
    "\t\t\t    <br />\n",
    "Practical Assignment 4\n",
    "            \t<br/>\n",
    "\t\t\t</font>\n",
    "</font>\n",
    "                <br/>\n",
    "    </div>"
   ]
  },
  {
   "cell_type": "markdown",
   "metadata": {},
   "source": [
    "<div>\n",
    "    <font color=\"orange\" size=6>\n",
    "    Q1\n",
    "    </font>\n",
    "    <hr/>\n",
    "</div>\n",
    "\n",
    "Calculating the eigenvalues and eigenvectors of a matrix is not an easy task for computers, as it requires solving a system of equations. For this reason, step-by-step computational methods have been introduced for calculating eigenvalues and eigenvectors. One such method is the QR decomposition of a matrix.\n",
    "\n",
    "In this method, the eigenvalues of a matrix are computed by performing the QR decomposition of the matrix and updating the matrix as 𝐴=𝑅𝑄. By continuing this process, the diagonal elements of the matrix converge to the eigenvalues of matrix 𝐴.\n",
    "\n",
    "In this exercise, you need to compute the eigenvalues and determinant of matrix 𝐴 using QR decomposition.\n",
    "\n",
    "**Input:** The first line of the input contains an integer 𝑛, representing the dimension of the square, symmetric, and invertible matrix. Then, the following 𝑛 lines contain the rows of the matrix.\n",
    "$$𝑛 < 30$$\n",
    "\n",
    "**Output:** The first line of the output should contain the eigenvalues in ascending order, rounded to three decimal places. The second line should contain the determinant of the matrix, rounded to three decimal places."
   ]
  },
  {
   "cell_type": "code",
   "execution_count": 1,
   "metadata": {},
   "outputs": [],
   "source": [
    "import numpy as np\n",
    "\n",
    "\n",
    "def get_Q(M):\n",
    "    Q = []\n",
    "    M = np.transpose(M)\n",
    "    iter = list(range(len(M)))\n",
    "    for i in iter:\n",
    "        v = np.array(M[i])\n",
    "        for j in range(i):\n",
    "            tmp1 = np.dot(M[i], Q[j])\n",
    "            tmp2 = np.dot(Q[j], Q[j])\n",
    "            tmp3 = (tmp1 / tmp2) * Q[j]\n",
    "            v -= tmp3\n",
    "        Q.append(v)\n",
    "    return np.array(list(map(lambda v: v / pow(sum(pow(v, 2)), 0.5), Q))).transpose()\n",
    "\n",
    "def get_R(M, Q):\n",
    "    return np.matmul(np.transpose(Q), M)"
   ]
  },
  {
   "cell_type": "code",
   "execution_count": 2,
   "metadata": {},
   "outputs": [],
   "source": [
    "def eigen_value_qr(A):\n",
    "    A_shape = A.shape[0]\n",
    "    pQ = np.eye(A_shape)\n",
    "    X = A[:]\n",
    "    iter = list(range(1000))\n",
    "    for i in iter:\n",
    "        tmp = get_Q(X)\n",
    "        pQ = pQ @ get_Q(X)\n",
    "        X = get_R(X, tmp) @ tmp\n",
    "    return np.diag(X)"
   ]
  },
  {
   "cell_type": "code",
   "execution_count": 8,
   "metadata": {},
   "outputs": [],
   "source": [
    "def calculate(test_input):\n",
    "    test_case = test_input.split(\"\\n\")\n",
    "    \n",
    "    n = int(test_case[0])\n",
    "    test_case = test_case[1:]\n",
    "    \n",
    "    A = np.zeros((n, n))\n",
    "    for i in range(n):\n",
    "        A[i] = np.array(list(map(float, test_case[i].split())))\n",
    "\n",
    "    Q = get_Q(A)\n",
    "    R = get_R(A, Q)\n",
    "    eigen_value = np.sort(eigen_value_qr(A))\n",
    "\n",
    "    detA = 1.0\n",
    "    res = \"\"\n",
    "    iter = list(range(len(eigen_value)))\n",
    "    for i in iter:\n",
    "        detA *= eigen_value[i]\n",
    "        res += f'{eigen_value[i] :.3f}'\n",
    "        space = i == (len(eigen_value) - 1)\n",
    "        if not space:\n",
    "            res += \" \"\n",
    "\n",
    "    print(res, f'{detA :.3f}', sep=\"\\n\")"
   ]
  },
  {
   "cell_type": "markdown",
   "metadata": {},
   "source": [
    "Let's test our code!"
   ]
  },
  {
   "cell_type": "code",
   "execution_count": 9,
   "metadata": {},
   "outputs": [
    {
     "name": "stdout",
     "output_type": "stream",
     "text": [
      "-1.405 3.243 4.552 20.610\n",
      "-427.500\n"
     ]
    }
   ],
   "source": [
    "test_input = '''4\n",
    "5.000 3.000 3.000 6.000\n",
    "3.000 9.000 3.500 6.500\n",
    "3.000 3.500 7.000 5.000\n",
    "6.000 6.500 5.000 6.000'''\n",
    "calculate(test_input)"
   ]
  }
 ],
 "metadata": {
  "kernelspec": {
   "display_name": "Python 3",
   "language": "python",
   "name": "python3"
  },
  "language_info": {
   "codemirror_mode": {
    "name": "ipython",
    "version": 3
   },
   "file_extension": ".py",
   "mimetype": "text/x-python",
   "name": "python",
   "nbconvert_exporter": "python",
   "pygments_lexer": "ipython3",
   "version": "3.10.7"
  }
 },
 "nbformat": 4,
 "nbformat_minor": 2
}
